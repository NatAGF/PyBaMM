{
 "cells": [
  {
   "cell_type": "code",
   "execution_count": 106,
   "metadata": {},
   "outputs": [],
   "source": [
    "##################### Import Libraries ############################\n",
    "import pybamm\n",
    "import numpy as np\n",
    "import matplotlib.pyplot as plt"
   ]
  },
  {
   "cell_type": "code",
   "execution_count": 107,
   "metadata": {},
   "outputs": [],
   "source": [
    "#################### Initiate Blank Model #########################\n",
    "model = pybamm.BaseModel()\n",
    "model.name = \"Marinescu_2018\""
   ]
  },
  {
   "cell_type": "code",
   "execution_count": 108,
   "metadata": {},
   "outputs": [],
   "source": [
    "################### Variables #####################################\n",
    "S8 = pybamm.Variable(\"S8\")\n",
    "S4 = pybamm.Variable(\"S4\")\n",
    "S2 = pybamm.Variable(\"S2\")\n",
    "S  = pybamm.Variable(\"S\")\n",
    "Sp = pybamm.Variable(\"Sp\")\n",
    "Ss = pybamm.Variable(\"Ss\")\n",
    "V  = pybamm.Variable(\"V\")"
   ]
  },
  {
   "cell_type": "code",
   "execution_count": 109,
   "metadata": {},
   "outputs": [],
   "source": [
    "# Model Variables\n",
    "model.variables = {\"S8\" : S8,\"S4\" : S4,\"S2\" : S2,\"S\" : S,\"Sp\" : Sp,\"Ss\" : Ss,\"V\" : V}"
   ]
  },
  {
   "cell_type": "code",
   "execution_count": 110,
   "metadata": {},
   "outputs": [],
   "source": [
    "##################### Parameters #################################\n",
    "R = 8.3145\n",
    "T = 298\n",
    "F = 9.649*(10**4)\n",
    "v = 0.0114\n",
    "\n",
    "EH0 = 2.35\n",
    "EL0 = 2.195\n",
    "\n",
    "k_p    = 100\n",
    "k_s    = 0.0002\n",
    "f_s    = 0.25\n",
    "S_star = 0.0001\n",
    "rho_s  = 2*(10**3)\n",
    "\n",
    "Ms8 = 32\n",
    "ne  = 4\n",
    "ns  = 1\n",
    "ns2 = 2\n",
    "ns4 = 4\n",
    "ns8 = 8\n",
    "n4  = 4\n",
    "\n",
    "ih0 = 10\n",
    "il0 = 5\n",
    "ar  = 0.960\n",
    "m_s = 2.7\n",
    "I   = 1.7\n",
    "\n",
    "i_h_term_coef   = ns8*Ms8*I*v*rho_s/(ne*F*k_p*(m_s**2))\n",
    "\n",
    "i_coef   = ne*F/(2*R*T)\n",
    "i_h_coef = -2*ih0*ar\n",
    "i_l_coef = -2*il0*ar\n",
    "\n",
    "E_H_coef = R*T/(4*F)\n",
    "f_h      = (ns4**2)*Ms8*v/ns8\n",
    "f_l      = (ns**2)*ns2*Ms8**2*(v**2)/ns4"
   ]
  },
  {
   "cell_type": "code",
   "execution_count": 111,
   "metadata": {},
   "outputs": [],
   "source": [
    "################# Nested Functions With PyBaMM ##################################\n",
    "\n",
    "# Nernst Potentials\n",
    "\n",
    "def E_H(S8,S4,EH0,E_H_coef,f_h):\n",
    "    return EH0 + E_H_coef*pybamm.log(f_h*S8/((S4**2)))\n",
    "\n",
    "def E_L(S,S2,S4,EL0,E_H_coef,f_l):\n",
    "    return EL0 + E_H_coef*pybamm.log(f_l*S4/(S2*(S**2)))\n",
    "\n",
    "# Surface Overpotentials\n",
    "\n",
    "def eta_H(V,S8,S4,EH0,E_H_coef,f_h):\n",
    "    return V-E_H(S8,S4,EH0,E_H_coef,f_h)\n",
    "\n",
    "def eta_L(V,S,S2,S4,EL0,E_H_coef,f_l):\n",
    "    return V-E_L(S,S2,S4,EL0,E_H_coef,f_l,)\n",
    "\n",
    "# Half-cell Currents\n",
    "\n",
    "def i_H(V,S8,S4,EH0,E_H_coef,f_h,i_coef,i_h_coef):\n",
    "    return i_h_coef*pybamm.sinh(i_coef*eta_H(V,S8,S4,EH0,E_H_coef,f_h))\n",
    "\n",
    "def i_L(V,S,S2,S4,EL0,E_H_coef,f_l,i_coef,i_l_coef):\n",
    "    return i_l_coef*pybamm.sinh(i_coef*eta_L(V,S,S2,S4,EL0,E_H_coef,f_l))"
   ]
  },
  {
   "cell_type": "code",
   "execution_count": 112,
   "metadata": {},
   "outputs": [],
   "source": [
    "################### Dynamic Equations ########################################\n",
    "# ODEs\n",
    "dS8dt = -(ns8*Ms8*i_H(V,S8,S4,EH0,E_H_coef,f_h,i_coef,i_h_coef)/n4*F) - k_s*S8\n",
    "dS4dt = (2*ns4*Ms8*i_H(V,S8,S4,EH0,E_H_coef,f_h,i_coef,i_h_coef)/n4*F) + (1-(f_s*Ss/m_s))*k_s*S8 - (ns4*Ms8*i_L(V,S,S2,S4,EL0,E_H_coef,f_l,i_coef,i_l_coef)/n4*F)\n",
    "dS2dt = ns2*Ms8*i_L(V,S,S2,S4,EL0,E_H_coef,f_l,i_coef,i_l_coef)/n4*F\n",
    "dSdt  = (2*ns*Ms8*i_L(V,S,S2,S4,EL0,E_H_coef,f_l,i_coef,i_l_coef)/n4*F) - (k_p*Sp*(S-S_star)/v*rho_s)\n",
    "dSpdt = k_p*Sp*(S-S_star)/v*rho_s\n",
    "dSsdt = k_s*S8\n",
    "\n",
    "# Algebraic Condition\n",
    "algebraic_condition = I - i_H(V,S8,S4,EH0,E_H_coef,f_h,i_coef,i_h_coef) - i_L(V,S,S2,S4,EL0,E_H_coef,f_l,i_coef,i_l_coef)"
   ]
  },
  {
   "cell_type": "code",
   "execution_count": 113,
   "metadata": {},
   "outputs": [],
   "source": [
    "############# Model implementation ###############################################\n",
    "model.rhs = { S8 : dS8dt, S4 : dS4dt, S2 : dS2dt, S  : dSdt, Sp : dSpdt, Ss : dSsdt }\n",
    "model.algebraic = {V : algebraic_condition}"
   ]
  },
  {
   "cell_type": "code",
   "execution_count": 114,
   "metadata": {},
   "outputs": [],
   "source": [
    "########################## Given Initial Conditions ####################################\n",
    "# Given values (dimensional)\n",
    "S8_initial = 0.998*m_s\n",
    "S4_initial = 0.001*m_s\n",
    "S_initial  = S_star*m_s\n",
    "Ss_initial = 0\n",
    "I_initial  = 0"
   ]
  },
  {
   "cell_type": "code",
   "execution_count": 115,
   "metadata": {},
   "outputs": [],
   "source": [
    "################# Nested Functions With Numpy ##################################\n",
    "\n",
    "# Nernst Potentials\n",
    "\n",
    "def E_H_np(S8,S4,EH0,E_H_coef,f_h):\n",
    "    return EH0 + E_H_coef*np.log(f_h*S8/((S4**2)))\n",
    "\n",
    "def E_L_np(S,S2,S4,EL0,E_H_coef,f_l):\n",
    "    return EL0 + E_H_coef*np.log(f_l*S4/(S2*(S**2)))\n"
   ]
  },
  {
   "cell_type": "code",
   "execution_count": 116,
   "metadata": {},
   "outputs": [],
   "source": [
    "########################## Derived Initial Conditions ##################################\n",
    "\n",
    "import scipy as sp\n",
    "\n",
    "V_initial = E_H_np(S8_initial,S4_initial,EH0,E_H_coef,f_h)\n",
    "\n",
    "S2_initial = np.exp(n4*F*(EH0-V_initial)/(R*T))*(S_initial/(f_l*S4_initial))\n",
    "\n",
    "Sp_initial = m_s - S8_initial - S4_initial - S2_initial - S_initial - Ss_initial"
   ]
  },
  {
   "cell_type": "code",
   "execution_count": 126,
   "metadata": {},
   "outputs": [],
   "source": [
    "# Initial Conditions\n",
    "model.initial_conditions = {S8 : pybamm.Scalar(S8_initial), S4 : pybamm.Scalar(S4_initial),S2 : pybamm.Scalar(S2_initial),S : pybamm.Scalar(S_initial),Sp : pybamm.Scalar(Sp_initial),Ss : pybamm.Scalar(Ss_initial), V : pybamm.Scalar(V_initial)}"
   ]
  },
  {
   "cell_type": "markdown",
   "metadata": {},
   "source": [
    "Now I am going to implement the model in almost the exact same way as shown in the documentation."
   ]
  },
  {
   "cell_type": "code",
   "execution_count": 128,
   "metadata": {},
   "outputs": [],
   "source": [
    "disc = pybamm.Discretisation()  # use the default discretisation\n",
    "disc.process_model(model);"
   ]
  },
  {
   "cell_type": "code",
   "execution_count": 139,
   "metadata": {},
   "outputs": [
    {
     "ename": "SolverError",
     "evalue": "Cannot use ODE solver 'Scipy solver (BDF)' to solve DAE model",
     "output_type": "error",
     "traceback": [
      "\u001b[0;31m---------------------------------------------------------------------------\u001b[0m",
      "\u001b[0;31mSolverError\u001b[0m                               Traceback (most recent call last)",
      "\u001b[0;32m<ipython-input-139-95a51f2d704f>\u001b[0m in \u001b[0;36m<module>\u001b[0;34m\u001b[0m\n\u001b[1;32m      2\u001b[0m \u001b[0msolver\u001b[0m \u001b[0;34m=\u001b[0m \u001b[0mpybamm\u001b[0m\u001b[0;34m.\u001b[0m\u001b[0mScipySolver\u001b[0m\u001b[0;34m(\u001b[0m\u001b[0;34m)\u001b[0m\u001b[0;31m#ScikitsDaeSolver() #This I changed since ScipySolver doesn't handle DAE's\u001b[0m\u001b[0;34m\u001b[0m\u001b[0;34m\u001b[0m\u001b[0m\n\u001b[1;32m      3\u001b[0m \u001b[0mt\u001b[0m \u001b[0;34m=\u001b[0m \u001b[0mnp\u001b[0m\u001b[0;34m.\u001b[0m\u001b[0mlinspace\u001b[0m\u001b[0;34m(\u001b[0m\u001b[0;36m0\u001b[0m\u001b[0;34m,\u001b[0m \u001b[0;36m1\u001b[0m\u001b[0;34m,\u001b[0m \u001b[0;36m20\u001b[0m\u001b[0;34m)\u001b[0m\u001b[0;34m\u001b[0m\u001b[0;34m\u001b[0m\u001b[0m\n\u001b[0;32m----> 4\u001b[0;31m \u001b[0msolution\u001b[0m \u001b[0;34m=\u001b[0m \u001b[0msolver\u001b[0m\u001b[0;34m.\u001b[0m\u001b[0msolve\u001b[0m\u001b[0;34m(\u001b[0m\u001b[0mmodel\u001b[0m\u001b[0;34m,\u001b[0m \u001b[0mt\u001b[0m\u001b[0;34m)\u001b[0m\u001b[0;34m\u001b[0m\u001b[0;34m\u001b[0m\u001b[0m\n\u001b[0m",
      "\u001b[0;32m~/opt/anaconda3/lib/python3.7/site-packages/pybamm/solvers/base_solver.py\u001b[0m in \u001b[0;36msolve\u001b[0;34m(self, model, t_eval, external_variables, inputs)\u001b[0m\n\u001b[1;32m    535\u001b[0m         \u001b[0;31m# Set up (if not done already)\u001b[0m\u001b[0;34m\u001b[0m\u001b[0;34m\u001b[0m\u001b[0;34m\u001b[0m\u001b[0m\n\u001b[1;32m    536\u001b[0m         \u001b[0;32mif\u001b[0m \u001b[0mmodel\u001b[0m \u001b[0;32mnot\u001b[0m \u001b[0;32min\u001b[0m \u001b[0mself\u001b[0m\u001b[0;34m.\u001b[0m\u001b[0mmodels_set_up\u001b[0m\u001b[0;34m:\u001b[0m\u001b[0;34m\u001b[0m\u001b[0;34m\u001b[0m\u001b[0m\n\u001b[0;32m--> 537\u001b[0;31m             \u001b[0mself\u001b[0m\u001b[0;34m.\u001b[0m\u001b[0mset_up\u001b[0m\u001b[0;34m(\u001b[0m\u001b[0mmodel\u001b[0m\u001b[0;34m,\u001b[0m \u001b[0mext_and_inputs\u001b[0m\u001b[0;34m)\u001b[0m\u001b[0;34m\u001b[0m\u001b[0;34m\u001b[0m\u001b[0m\n\u001b[0m\u001b[1;32m    538\u001b[0m             \u001b[0mset_up_time\u001b[0m \u001b[0;34m=\u001b[0m \u001b[0mtimer\u001b[0m\u001b[0;34m.\u001b[0m\u001b[0mtime\u001b[0m\u001b[0;34m(\u001b[0m\u001b[0;34m)\u001b[0m\u001b[0;34m\u001b[0m\u001b[0;34m\u001b[0m\u001b[0m\n\u001b[1;32m    539\u001b[0m             \u001b[0mself\u001b[0m\u001b[0;34m.\u001b[0m\u001b[0mmodels_set_up\u001b[0m\u001b[0;34m.\u001b[0m\u001b[0madd\u001b[0m\u001b[0;34m(\u001b[0m\u001b[0mmodel\u001b[0m\u001b[0;34m)\u001b[0m\u001b[0;34m\u001b[0m\u001b[0;34m\u001b[0m\u001b[0m\n",
      "\u001b[0;32m~/opt/anaconda3/lib/python3.7/site-packages/pybamm/solvers/base_solver.py\u001b[0m in \u001b[0;36mset_up\u001b[0;34m(self, model, inputs)\u001b[0m\n\u001b[1;32m    122\u001b[0m         \u001b[0;32mif\u001b[0m \u001b[0mself\u001b[0m\u001b[0;34m.\u001b[0m\u001b[0mode_solver\u001b[0m \u001b[0;32mis\u001b[0m \u001b[0;32mTrue\u001b[0m \u001b[0;32mand\u001b[0m \u001b[0mlen\u001b[0m\u001b[0;34m(\u001b[0m\u001b[0mmodel\u001b[0m\u001b[0;34m.\u001b[0m\u001b[0malgebraic\u001b[0m\u001b[0;34m)\u001b[0m \u001b[0;34m>\u001b[0m \u001b[0;36m0\u001b[0m\u001b[0;34m:\u001b[0m\u001b[0;34m\u001b[0m\u001b[0;34m\u001b[0m\u001b[0m\n\u001b[1;32m    123\u001b[0m             raise pybamm.SolverError(\n\u001b[0;32m--> 124\u001b[0;31m                 \u001b[0;34m\"Cannot use ODE solver '{}' to solve DAE model\"\u001b[0m\u001b[0;34m.\u001b[0m\u001b[0mformat\u001b[0m\u001b[0;34m(\u001b[0m\u001b[0mself\u001b[0m\u001b[0;34m.\u001b[0m\u001b[0mname\u001b[0m\u001b[0;34m)\u001b[0m\u001b[0;34m\u001b[0m\u001b[0;34m\u001b[0m\u001b[0m\n\u001b[0m\u001b[1;32m    125\u001b[0m             )\n\u001b[1;32m    126\u001b[0m         \u001b[0;31m# Check model.rhs for algebraic solvers\u001b[0m\u001b[0;34m\u001b[0m\u001b[0;34m\u001b[0m\u001b[0;34m\u001b[0m\u001b[0m\n",
      "\u001b[0;31mSolverError\u001b[0m: Cannot use ODE solver 'Scipy solver (BDF)' to solve DAE model"
     ]
    }
   ],
   "source": [
    "#import scipy.Scikits.ode\n",
    "solver = pybamm.ScipySolver()#ScikitsDaeSolver() #This I changed since ScipySolver doesn't handle DAE's\n",
    "t = np.linspace(0, 1, 20)\n",
    "solution = solver.solve(model, t)"
   ]
  },
  {
   "cell_type": "code",
   "execution_count": 138,
   "metadata": {},
   "outputs": [
    {
     "ename": "ImportError",
     "evalue": "cannot import name 'SciKits' from 'scipy' (/Users/michaelcornish/opt/anaconda3/lib/python3.7/site-packages/scipy/__init__.py)",
     "output_type": "error",
     "traceback": [
      "\u001b[0;31m---------------------------------------------------------------------------\u001b[0m",
      "\u001b[0;31mImportError\u001b[0m                               Traceback (most recent call last)",
      "\u001b[0;32m<ipython-input-138-359121bb64e1>\u001b[0m in \u001b[0;36m<module>\u001b[0;34m\u001b[0m\n\u001b[0;32m----> 1\u001b[0;31m \u001b[0;32mfrom\u001b[0m \u001b[0mscipy\u001b[0m \u001b[0;32mimport\u001b[0m \u001b[0mSciKits\u001b[0m\u001b[0;34m\u001b[0m\u001b[0;34m\u001b[0m\u001b[0m\n\u001b[0m",
      "\u001b[0;31mImportError\u001b[0m: cannot import name 'SciKits' from 'scipy' (/Users/michaelcornish/opt/anaconda3/lib/python3.7/site-packages/scipy/__init__.py)"
     ]
    }
   ],
   "source": [
    "pybamm."
   ]
  },
  {
   "cell_type": "code",
   "execution_count": null,
   "metadata": {},
   "outputs": [],
   "source": []
  }
 ],
 "metadata": {
  "kernelspec": {
   "display_name": "Python 3",
   "language": "python",
   "name": "python3"
  },
  "language_info": {
   "codemirror_mode": {
    "name": "ipython",
    "version": 3
   },
   "file_extension": ".py",
   "mimetype": "text/x-python",
   "name": "python",
   "nbconvert_exporter": "python",
   "pygments_lexer": "ipython3",
   "version": "3.7.6"
  }
 },
 "nbformat": 4,
 "nbformat_minor": 4
}
