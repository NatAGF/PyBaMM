{
 "cells": [
  {
   "cell_type": "code",
   "execution_count": 1,
   "metadata": {},
   "outputs": [],
   "source": [
    "##################### Import Libraries ############################\n",
    "import pybamm\n",
    "import numpy as np\n",
    "import matplotlib.pyplot as plt"
   ]
  },
  {
   "cell_type": "code",
   "execution_count": 2,
   "metadata": {},
   "outputs": [],
   "source": [
    "#################### Initiate Blank Model #########################\n",
    "model = pybamm.BaseModel()\n",
    "model.name = \"Marinescu_2018\""
   ]
  },
  {
   "cell_type": "code",
   "execution_count": 3,
   "metadata": {},
   "outputs": [],
   "source": [
    "################### Variables #####################################\n",
    "S8 = pybamm.Variable(\"S8\")\n",
    "S4 = pybamm.Variable(\"S4\")\n",
    "S2 = pybamm.Variable(\"S2\")\n",
    "S  = pybamm.Variable(\"S\")\n",
    "Sp = pybamm.Variable(\"Sp\")\n",
    "Ss = pybamm.Variable(\"Ss\")\n",
    "V  = pybamm.Variable(\"V\")"
   ]
  },
  {
   "cell_type": "code",
   "execution_count": 4,
   "metadata": {},
   "outputs": [],
   "source": [
    "# Model Variables\n",
    "model.variables = {\"S8\" : S8,\n",
    "                   \"S4\" : S4,\n",
    "                   \"S2\" : S2,\n",
    "                   \"S\" : S,\n",
    "                   \"Sp\" : Sp,\n",
    "                   \"Ss\" : Ss,\n",
    "                   \"V\" : V}"
   ]
  },
  {
   "cell_type": "code",
   "execution_count": 46,
   "metadata": {},
   "outputs": [],
   "source": [
    "##################### Parameters #################################\n",
    "\n",
    "# Set Parameters values normally\n",
    "\n",
    "R = 8.3145\n",
    "T = 298\n",
    "F = 9.649*(10**4)\n",
    "v = 0.0114\n",
    "\n",
    "EH0 = 2.35\n",
    "EL0 = 2.18\n",
    "\n",
    "k_p    = 100\n",
    "k_s    = 0 #0.0002 for charge\n",
    "f_s    = 0.25\n",
    "S_star = 0.0001\n",
    "rho_s  = 2*(10**3)\n",
    "\n",
    "Ms = 32\n",
    "ne  = 4\n",
    "ns  = 1\n",
    "ns2 = 2\n",
    "ns4 = 4\n",
    "ns8 = 8\n",
    "n4  = 4\n",
    "\n",
    "ih0 = 1\n",
    "il0 = 0.5\n",
    "ar  = 0.960\n",
    "m_s = 2.7\n",
    "I   = 0\n",
    "\n",
    "i_h_term_coef   = ns8*Ms*I*v*rho_s/(ne*F*k_p*(m_s**2))\n",
    "\n",
    "i_coef   = ne*F/(2*R*T)\n",
    "i_h_coef = -2*ih0*ar\n",
    "i_l_coef = -2*il0*ar\n",
    "\n",
    "E_H_coef = R*T/(4*F)\n",
    "f_h      = (ns4**2)*Ms*v/ns8\n",
    "f_l      = (ns**2)*ns2*Ms**2*(v**2)/ns4\n"
   ]
  },
  {
   "cell_type": "code",
   "execution_count": 47,
   "metadata": {},
   "outputs": [],
   "source": [
    "########################## Given Initial Conditions ####################################\n",
    "# Given values (dimensional)\n",
    "S8_initial = 0.998*m_s\n",
    "S4_initial = 0.001*m_s\n",
    "S_initial  = S_star\n",
    "Ss_initial = 0\n",
    "I_initial  = 0"
   ]
  },
  {
   "cell_type": "code",
   "execution_count": 48,
   "metadata": {},
   "outputs": [],
   "source": [
    "################# Nested Functions With Numpy ##################################\n",
    "\n",
    "# Nernst Potentials\n",
    "\n",
    "def E_H_np(S8,S4,EH0,E_H_coef,f_h):\n",
    "    return EH0 + E_H_coef*np.log(f_h*S8/ (S4**2) )\n",
    "\n",
    "def E_L_np(S,S2,S4,EL0,E_H_coef,f_l):\n",
    "    return EL0 + E_H_coef*np.log(f_l*S4/ (S2*(S**2)) )\n",
    "\n",
    "# Surface Overpotentials\n",
    "\n",
    "def eta_H_np(V,S8,S4,EH0,E_H_coef,f_h):\n",
    "    return V-E_H_np(S8,S4,EH0,E_H_coef,f_h)\n",
    "\n",
    "def eta_L_np(V,S,S2,S4,EL0,E_H_coef,f_l):\n",
    "    return V-E_L_np(S,S2,S4,EL0,E_H_coef,f_l,)\n",
    "\n",
    "# Half-cell Currents\n",
    "\n",
    "def i_H_np(V,S8,S4,EH0,E_H_coef,f_h,i_coef,i_h_coef):\n",
    "    return i_h_coef*np.sinh(i_coef*eta_H_np(V,S8,S4,EH0,E_H_coef,f_h))\n",
    "\n",
    "def i_L_np(V,S,S2,S4,EL0,E_H_coef,f_l,i_coef,i_l_coef):\n",
    "    return i_l_coef*np.sinh(i_coef*eta_L_np(V,S,S2,S4,EL0,E_H_coef,f_l))\n",
    "\n",
    "def algebraic_condition_func_np(V,S,S2,S4,S8,EL0,EH0,E_H_coef,f_l,f_h,i_coef,i_l_coef,i_h_coef,I):\n",
    "    return i_H_np(V,S8,S4,EH0,E_H_coef,f_h,i_coef,i_h_coef) + i_L_np(V,S,S2,S4,EL0,E_H_coef,f_l,i_coef,i_l_coef) - I"
   ]
  },
  {
   "cell_type": "code",
   "execution_count": 49,
   "metadata": {},
   "outputs": [],
   "source": [
    "########################## Derived Initial Conditions ##################################\n",
    "\n",
    "import scipy as sp\n",
    "\n",
    "V_initial = E_H_np(S8_initial,S4_initial,EH0,E_H_coef,f_h)\n",
    "\n",
    "S2_initial = np.exp(n4*F*(EL0-V_initial)/(R*T))*(f_l*S4_initial/(S_initial**2))\n",
    "\n",
    "Sp_initial = m_s - S8_initial - S4_initial - S2_initial - S_initial - Ss_initial"
   ]
  },
  {
   "cell_type": "code",
   "execution_count": 66,
   "metadata": {},
   "outputs": [],
   "source": [
    "# Alternative initial conditions & current \n",
    "S8_initial = 2.694533668705614\n",
    "S4_initial = 0.002766331283071\n",
    "S2_initial = 0.000000000005594\n",
    "Sp_initial = 0.002650000000843\n",
    "Ss_initial = 0\n",
    "S_initial  = 0.000050000004750\n",
    "V_initial  = 2.418278144020148\n",
    "I = 2"
   ]
  },
  {
   "cell_type": "code",
   "execution_count": 67,
   "metadata": {},
   "outputs": [],
   "source": [
    "# Initial Conditions\n",
    "model.initial_conditions = {S8 : pybamm.Scalar(S8_initial), S4 : pybamm.Scalar(S4_initial), S2 : pybamm.Scalar(S2_initial),S : pybamm.Scalar(S_initial),Sp : pybamm.Scalar(Sp_initial),Ss : pybamm.Scalar(Ss_initial), V : pybamm.Scalar(V_initial)}"
   ]
  },
  {
   "cell_type": "code",
   "execution_count": 68,
   "metadata": {},
   "outputs": [],
   "source": [
    "################# Nested Functions With PyBaMM ##################################\n",
    "\n",
    "# Nernst Potentials\n",
    "\n",
    "def E_H(S8,S4,EH0,E_H_coef,f_h):\n",
    "    return EH0 + E_H_coef*pybamm.log(f_h*S8/((S4**2)))\n",
    "\n",
    "def E_L(S,S2,S4,EL0,E_H_coef,f_l):\n",
    "    return EL0 + E_H_coef*pybamm.log(f_l*S4/(S2*(S**2)))\n",
    "\n",
    "# Surface Overpotentials\n",
    "\n",
    "def eta_H(V,S8,S4,EH0,E_H_coef,f_h):\n",
    "    return V-E_H(S8,S4,EH0,E_H_coef,f_h)\n",
    "\n",
    "def eta_L(V,S,S2,S4,EL0,E_H_coef,f_l):\n",
    "    return V-E_L(S,S2,S4,EL0,E_H_coef,f_l,)\n",
    "\n",
    "# Half-cell Currents\n",
    "\n",
    "def i_H(V,S8,S4,EH0,E_H_coef,f_h,i_coef,i_h_coef):\n",
    "    return i_h_coef*pybamm.sinh(i_coef*eta_H(V,S8,S4,EH0,E_H_coef,f_h))\n",
    "\n",
    "def i_L(V,S,S2,S4,EL0,E_H_coef,f_l,i_coef,i_l_coef):\n",
    "    return i_l_coef*pybamm.sinh(i_coef*eta_L(V,S,S2,S4,EL0,E_H_coef,f_l))\n",
    "\n",
    "def algebraic_condition_func(V,S,S2,S4,S8,EL0,EH0,E_H_coef,f_l,f_h,i_coef,i_l_coef,i_h_coef,I):\n",
    "    return i_H(V,S8,S4,EH0,E_H_coef,f_h,i_coef,i_h_coef) + i_L(V,S,S2,S4,EL0,E_H_coef,f_l,i_coef,i_l_coef) - I"
   ]
  },
  {
   "cell_type": "code",
   "execution_count": 69,
   "metadata": {},
   "outputs": [],
   "source": [
    "################### Dynamic Equations ########################################\n",
    "# ODEs\n",
    "dS8dt = -(ns8*Ms*i_H(V,S8,S4,EH0,E_H_coef,f_h,i_coef,i_h_coef)/n4*F) - k_s*S8\n",
    "dS4dt = (2*ns4*Ms*i_H(V,S8,S4,EH0,E_H_coef,f_h,i_coef,i_h_coef)/n4*F) + (1-(f_s*Ss/m_s))*k_s*S8 - (ns4*Ms*i_L(V,S,S2,S4,EL0,E_H_coef,f_l,i_coef,i_l_coef)/n4*F)\n",
    "dS2dt = ns2*Ms*i_L(V,S,S2,S4,EL0,E_H_coef,f_l,i_coef,i_l_coef)/n4*F\n",
    "dSdt  = (2*ns*Ms*i_L(V,S,S2,S4,EL0,E_H_coef,f_l,i_coef,i_l_coef)/n4*F) - (k_p*Sp*(S-S_star)/v*rho_s)\n",
    "dSpdt = k_p*Sp*(S-S_star)/v*rho_s\n",
    "dSsdt = k_s*S8\n",
    "\n",
    "# Algebraic Condition\n",
    "algebraic_condition = algebraic_condition_func(V,S,S2,S4,S8,EL0,EH0,E_H_coef,f_l,f_h,i_coef,i_l_coef,i_h_coef,I)"
   ]
  },
  {
   "cell_type": "code",
   "execution_count": 70,
   "metadata": {},
   "outputs": [],
   "source": [
    "############# Model implementation ###############################################\n",
    "model.rhs = {S8 : dS8dt, \n",
    "             S4 : dS4dt, \n",
    "             S2 : dS2dt, \n",
    "             S  : dSdt, \n",
    "             Sp : dSpdt, \n",
    "             Ss : dSsdt }\n",
    "model.algebraic = {V : algebraic_condition}"
   ]
  },
  {
   "cell_type": "code",
   "execution_count": 71,
   "metadata": {},
   "outputs": [],
   "source": [
    "disc = pybamm.Discretisation()  # use the default discretisation\n",
    "disc.process_model(model);"
   ]
  },
  {
   "cell_type": "code",
   "execution_count": 72,
   "metadata": {},
   "outputs": [
    {
     "name": "stderr",
     "output_type": "stream",
     "text": [
      "CasADi - 2020-05-05 13:53:16 WARNING(\"F:daeF failed: Inf detected for output ode, at (row 0, col 0).\") [.../casadi/core/oracle_function.cpp:265]\n",
      "CasADi - 2020-05-05 13:53:16 WARNING(\"F:daeF failed: Inf detected for output ode, at (row 0, col 0).\") [.../casadi/core/oracle_function.cpp:265]\n",
      "CasADi - 2020-05-05 13:53:16 WARNING(\"F:daeF failed: Inf detected for output ode, at (row 0, col 0).\") [.../casadi/core/oracle_function.cpp:265]\n",
      "CasADi - 2020-05-05 13:53:16 WARNING(\"F:daeF failed: Inf detected for output ode, at (row 0, col 0).\") [.../casadi/core/oracle_function.cpp:265]\n",
      "CasADi - 2020-05-05 13:53:16 WARNING(\"F:daeF failed: Inf detected for output ode, at (row 0, col 0).\") [.../casadi/core/oracle_function.cpp:265]\n",
      "CasADi - 2020-05-05 13:53:16 WARNING(\"F:daeF failed: Inf detected for output ode, at (row 0, col 0).\") [.../casadi/core/oracle_function.cpp:265]\n",
      "CasADi - 2020-05-05 13:53:16 WARNING(\"F:daeF failed: Inf detected for output ode, at (row 0, col 0).\") [.../casadi/core/oracle_function.cpp:265]\n",
      "CasADi - 2020-05-05 13:53:16 WARNING(\"F:daeF failed: Inf detected for output ode, at (row 0, col 0).\") [.../casadi/core/oracle_function.cpp:265]\n",
      "CasADi - 2020-05-05 13:53:16 WARNING(\"F:daeF failed: Inf detected for output ode, at (row 0, col 0).\") [.../casadi/core/oracle_function.cpp:265]\n",
      "CasADi - 2020-05-05 13:53:16 WARNING(\"F:daeF failed: Inf detected for output ode, at (row 0, col 0).\") [.../casadi/core/oracle_function.cpp:265]\n",
      "CasADi - 2020-05-05 13:53:16 WARNING(\"F:daeF failed: Inf detected for output ode, at (row 0, col 0).\") [.../casadi/core/oracle_function.cpp:265]\n",
      "CasADi - 2020-05-05 13:53:16 WARNING(\"F:daeF failed: Inf detected for output ode, at (row 0, col 0).\") [.../casadi/core/oracle_function.cpp:265]\n",
      "CasADi - 2020-05-05 13:53:16 WARNING(\"F:daeF failed: Inf detected for output ode, at (row 0, col 0).\") [.../casadi/core/oracle_function.cpp:265]\n",
      "CasADi - 2020-05-05 13:53:16 WARNING(\"F:daeF failed: Inf detected for output ode, at (row 0, col 0).\") [.../casadi/core/oracle_function.cpp:265]\n",
      "CasADi - 2020-05-05 13:53:16 WARNING(\"F:daeF failed: Inf detected for output ode, at (row 0, col 0).\") [.../casadi/core/oracle_function.cpp:265]\n",
      "CasADi - 2020-05-05 13:53:16 WARNING(\"F:daeF failed: Inf detected for output ode, at (row 0, col 0).\") [.../casadi/core/oracle_function.cpp:265]\n",
      "CasADi - 2020-05-05 13:53:16 WARNING(\"F:daeF failed: Inf detected for output ode, at (row 0, col 0).\") [.../casadi/core/oracle_function.cpp:265]\n",
      "CasADi - 2020-05-05 13:53:16 WARNING(\"F:daeF failed: Inf detected for output ode, at (row 0, col 0).\") [.../casadi/core/oracle_function.cpp:265]\n",
      "CasADi - 2020-05-05 13:53:16 WARNING(\"F:daeF failed: Inf detected for output ode, at (row 0, col 0).\") [.../casadi/core/oracle_function.cpp:265]\n",
      "CasADi - 2020-05-05 13:53:16 WARNING(\"F:daeF failed: Inf detected for output ode, at (row 0, col 0).\") [.../casadi/core/oracle_function.cpp:265]\n",
      "CasADi - 2020-05-05 13:53:16 WARNING(\"F:daeF failed: Inf detected for output ode, at (row 0, col 0).\") [.../casadi/core/oracle_function.cpp:265]\n",
      "CasADi - 2020-05-05 13:53:16 WARNING(\"F:daeF failed: Inf detected for output ode, at (row 0, col 0).\") [.../casadi/core/oracle_function.cpp:265]\n",
      "CasADi - 2020-05-05 13:53:16 WARNING(\"F:daeF failed: Inf detected for output ode, at (row 0, col 0).\") [.../casadi/core/oracle_function.cpp:265]\n",
      "CasADi - 2020-05-05 13:53:16 WARNING(\"F:daeF failed: Inf detected for output ode, at (row 0, col 0).\") [.../casadi/core/oracle_function.cpp:265]\n",
      "CasADi - 2020-05-05 13:53:16 WARNING(\"F:daeF failed: Inf detected for output ode, at (row 0, col 0).\") [.../casadi/core/oracle_function.cpp:265]\n",
      "CasADi - 2020-05-05 13:53:16 WARNING(\"F:daeF failed: Inf detected for output ode, at (row 0, col 0).\") [.../casadi/core/oracle_function.cpp:265]\n",
      "CasADi - 2020-05-05 13:53:16 WARNING(\"F:daeF failed: Inf detected for output ode, at (row 0, col 0).\") [.../casadi/core/oracle_function.cpp:265]\n",
      "CasADi - 2020-05-05 13:53:16 WARNING(\"F:daeF failed: Inf detected for output ode, at (row 0, col 0).\") [.../casadi/core/oracle_function.cpp:265]\n",
      "CasADi - 2020-05-05 13:53:16 WARNING(\"F:daeF failed: Inf detected for output ode, at (row 0, col 0).\") [.../casadi/core/oracle_function.cpp:265]\n",
      "CasADi - 2020-05-05 13:53:16 WARNING(\"F:daeF failed: Inf detected for output ode, at (row 0, col 0).\") [.../casadi/core/oracle_function.cpp:265]\n",
      "CasADi - 2020-05-05 13:53:16 WARNING(\"F:daeF failed: Inf detected for output ode, at (row 0, col 0).\") [.../casadi/core/oracle_function.cpp:265]\n",
      "CasADi - 2020-05-05 13:53:16 WARNING(\"F:daeF failed: Inf detected for output ode, at (row 0, col 0).\") [.../casadi/core/oracle_function.cpp:265]\n",
      "CasADi - 2020-05-05 13:53:16 WARNING(\"F:daeF failed: Inf detected for output ode, at (row 0, col 0).\") [.../casadi/core/oracle_function.cpp:265]\n",
      "CasADi - 2020-05-05 13:53:16 WARNING(\"F:daeF failed: Inf detected for output ode, at (row 0, col 0).\") [.../casadi/core/oracle_function.cpp:265]\n",
      "CasADi - 2020-05-05 13:53:16 WARNING(\"F:daeF failed: Inf detected for output ode, at (row 0, col 0).\") [.../casadi/core/oracle_function.cpp:265]\n",
      "CasADi - 2020-05-05 13:53:16 WARNING(\"F:daeF failed: Inf detected for output ode, at (row 0, col 0).\") [.../casadi/core/oracle_function.cpp:265]\n",
      "CasADi - 2020-05-05 13:53:16 WARNING(\"F:daeF failed: Inf detected for output ode, at (row 0, col 0).\") [.../casadi/core/oracle_function.cpp:265]\n",
      "CasADi - 2020-05-05 13:53:16 WARNING(\"F:daeF failed: Inf detected for output ode, at (row 0, col 0).\") [.../casadi/core/oracle_function.cpp:265]\n",
      "CasADi - 2020-05-05 13:53:16 WARNING(\"F:daeF failed: Inf detected for output ode, at (row 0, col 0).\") [.../casadi/core/oracle_function.cpp:265]\n",
      "CasADi - 2020-05-05 13:53:16 WARNING(\"F:daeF failed: Inf detected for output ode, at (row 0, col 0).\") [.../casadi/core/oracle_function.cpp:265]\n",
      "CasADi - 2020-05-05 13:53:16 WARNING(\"F:daeF failed: Inf detected for output ode, at (row 0, col 0).\") [.../casadi/core/oracle_function.cpp:265]\n",
      "CasADi - 2020-05-05 13:53:16 WARNING(\"F:daeF failed: Inf detected for output ode, at (row 0, col 0).\") [.../casadi/core/oracle_function.cpp:265]\n",
      "CasADi - 2020-05-05 13:53:16 WARNING(\"F:daeF failed: Inf detected for output ode, at (row 0, col 0).\") [.../casadi/core/oracle_function.cpp:265]\n",
      "CasADi - 2020-05-05 13:53:16 WARNING(\"F:daeF failed: Inf detected for output ode, at (row 0, col 0).\") [.../casadi/core/oracle_function.cpp:265]\n",
      "CasADi - 2020-05-05 13:53:16 WARNING(\"F:daeF failed: Inf detected for output ode, at (row 0, col 0).\") [.../casadi/core/oracle_function.cpp:265]\n",
      "CasADi - 2020-05-05 13:53:16 WARNING(\"F:daeF failed: Inf detected for output ode, at (row 0, col 0).\") [.../casadi/core/oracle_function.cpp:265]\n",
      "CasADi - 2020-05-05 13:53:16 WARNING(\"F:daeF failed: Inf detected for output ode, at (row 0, col 0).\") [.../casadi/core/oracle_function.cpp:265]\n",
      "CasADi - 2020-05-05 13:53:16 WARNING(\"F:daeF failed: Inf detected for output ode, at (row 0, col 0).\") [.../casadi/core/oracle_function.cpp:265]\n",
      "CasADi - 2020-05-05 13:53:16 WARNING(\"F:daeF failed: Inf detected for output ode, at (row 0, col 0).\") [.../casadi/core/oracle_function.cpp:265]\n",
      "CasADi - 2020-05-05 13:53:16 WARNING(\"F:daeF failed: Inf detected for output ode, at (row 0, col 0).\") [.../casadi/core/oracle_function.cpp:265]\n",
      "CasADi - 2020-05-05 13:53:16 WARNING(\"F:daeF failed: Inf detected for output ode, at (row 0, col 0).\") [.../casadi/core/oracle_function.cpp:265]\n",
      "CasADi - 2020-05-05 13:53:16 WARNING(\"F:daeF failed: Inf detected for output ode, at (row 0, col 0).\") [.../casadi/core/oracle_function.cpp:265]\n",
      "CasADi - 2020-05-05 13:53:16 WARNING(\"F:daeF failed: Inf detected for output ode, at (row 0, col 0).\") [.../casadi/core/oracle_function.cpp:265]\n",
      "CasADi - 2020-05-05 13:53:16 WARNING(\"F:daeF failed: Inf detected for output ode, at (row 0, col 0).\") [.../casadi/core/oracle_function.cpp:265]\n",
      "CasADi - 2020-05-05 13:53:16 WARNING(\"F:daeF failed: Inf detected for output ode, at (row 0, col 0).\") [.../casadi/core/oracle_function.cpp:265]\n",
      "CasADi - 2020-05-05 13:53:16 WARNING(\"F:daeF failed: Inf detected for output ode, at (row 0, col 0).\") [.../casadi/core/oracle_function.cpp:265]\n",
      "CasADi - 2020-05-05 13:53:16 WARNING(\"F:daeF failed: Inf detected for output ode, at (row 0, col 0).\") [.../casadi/core/oracle_function.cpp:265]\n",
      "CasADi - 2020-05-05 13:53:16 WARNING(\"F:daeF failed: Inf detected for output ode, at (row 0, col 0).\") [.../casadi/core/oracle_function.cpp:265]\n",
      "CasADi - 2020-05-05 13:53:16 WARNING(\"F:daeF failed: Inf detected for output ode, at (row 0, col 0).\") [.../casadi/core/oracle_function.cpp:265]\n",
      "CasADi - 2020-05-05 13:53:16 WARNING(\"F:daeF failed: Inf detected for output ode, at (row 0, col 0).\") [.../casadi/core/oracle_function.cpp:265]\n",
      "CasADi - 2020-05-05 13:53:16 WARNING(\"F:daeF failed: Inf detected for output ode, at (row 0, col 0).\") [.../casadi/core/oracle_function.cpp:265]\n",
      "CasADi - 2020-05-05 13:53:16 WARNING(\"F:daeF failed: Inf detected for output ode, at (row 0, col 0).\") [.../casadi/core/oracle_function.cpp:265]\n",
      "CasADi - 2020-05-05 13:53:16 WARNING(\"F:daeF failed: Inf detected for output ode, at (row 0, col 0).\") [.../casadi/core/oracle_function.cpp:265]\n",
      "CasADi - 2020-05-05 13:53:16 WARNING(\"F:daeF failed: Inf detected for output ode, at (row 0, col 0).\") [.../casadi/core/oracle_function.cpp:265]\n",
      "CasADi - 2020-05-05 13:53:16 WARNING(\"F:daeF failed: Inf detected for output ode, at (row 0, col 0).\") [.../casadi/core/oracle_function.cpp:265]\n",
      "CasADi - 2020-05-05 13:53:16 WARNING(\"F:daeF failed: Inf detected for output ode, at (row 0, col 0).\") [.../casadi/core/oracle_function.cpp:265]\n",
      "CasADi - 2020-05-05 13:53:16 WARNING(\"F:daeF failed: Inf detected for output ode, at (row 0, col 0).\") [.../casadi/core/oracle_function.cpp:265]\n",
      "CasADi - 2020-05-05 13:53:16 WARNING(\"F:daeF failed: Inf detected for output ode, at (row 0, col 0).\") [.../casadi/core/oracle_function.cpp:265]\n",
      "CasADi - 2020-05-05 13:53:16 WARNING(\"F:daeF failed: Inf detected for output ode, at (row 0, col 0).\") [.../casadi/core/oracle_function.cpp:265]\n",
      "CasADi - 2020-05-05 13:53:16 WARNING(\"F:daeF failed: Inf detected for output ode, at (row 0, col 0).\") [.../casadi/core/oracle_function.cpp:265]\n",
      "CasADi - 2020-05-05 13:53:16 WARNING(\"F:daeF failed: Inf detected for output ode, at (row 0, col 0).\") [.../casadi/core/oracle_function.cpp:265]\n",
      "CasADi - 2020-05-05 13:53:16 WARNING(\"F:daeF failed: Inf detected for output ode, at (row 0, col 0).\") [.../casadi/core/oracle_function.cpp:265]\n",
      "CasADi - 2020-05-05 13:53:16 WARNING(\"F:daeF failed: Inf detected for output ode, at (row 0, col 0).\") [.../casadi/core/oracle_function.cpp:265]\n",
      "CasADi - 2020-05-05 13:53:16 WARNING(\"F:daeF failed: Inf detected for output ode, at (row 0, col 0).\") [.../casadi/core/oracle_function.cpp:265]\n",
      "CasADi - 2020-05-05 13:53:16 WARNING(\"F:daeF failed: Inf detected for output ode, at (row 0, col 0).\") [.../casadi/core/oracle_function.cpp:265]\n",
      "CasADi - 2020-05-05 13:53:16 WARNING(\"F:daeF failed: Inf detected for output ode, at (row 0, col 0).\") [.../casadi/core/oracle_function.cpp:265]\n",
      "CasADi - 2020-05-05 13:53:16 WARNING(\"F:daeF failed: Inf detected for output ode, at (row 0, col 0).\") [.../casadi/core/oracle_function.cpp:265]\n",
      "CasADi - 2020-05-05 13:53:16 WARNING(\"F:daeF failed: Inf detected for output ode, at (row 0, col 0).\") [.../casadi/core/oracle_function.cpp:265]\n",
      "CasADi - 2020-05-05 13:53:16 WARNING(\"F:daeF failed: Inf detected for output ode, at (row 0, col 0).\") [.../casadi/core/oracle_function.cpp:265]\n",
      "CasADi - 2020-05-05 13:53:16 WARNING(\"F:daeF failed: Inf detected for output ode, at (row 0, col 0).\") [.../casadi/core/oracle_function.cpp:265]\n",
      "CasADi - 2020-05-05 13:53:16 WARNING(\"F:daeF failed: Inf detected for output ode, at (row 0, col 0).\") [.../casadi/core/oracle_function.cpp:265]\n",
      "CasADi - 2020-05-05 13:53:16 WARNING(\"F:daeF failed: Inf detected for output ode, at (row 0, col 0).\") [.../casadi/core/oracle_function.cpp:265]\n",
      "CasADi - 2020-05-05 13:53:16 WARNING(\"F:daeF failed: NaN detected for output ode, at (row 1, col 0).\") [.../casadi/core/oracle_function.cpp:265]\n",
      "CasADi - 2020-05-05 13:53:16 WARNING(\"F:daeF failed: NaN detected for output ode, at (row 0, col 0).\") [.../casadi/core/oracle_function.cpp:265]\n",
      "CasADi - 2020-05-05 13:53:16 WARNING(\"F:daeF failed: NaN detected for output ode, at (row 0, col 0).\") [.../casadi/core/oracle_function.cpp:265]\n",
      "CasADi - 2020-05-05 13:53:16 WARNING(\"F:daeF failed: NaN detected for output ode, at (row 1, col 0).\") [.../casadi/core/oracle_function.cpp:265]\n",
      "CasADi - 2020-05-05 13:53:16 WARNING(\"F:daeF failed: NaN detected for output ode, at (row 0, col 0).\") [.../casadi/core/oracle_function.cpp:265]\n",
      "CasADi - 2020-05-05 13:53:16 WARNING(\"F:daeF failed: NaN detected for output ode, at (row 0, col 0).\") [.../casadi/core/oracle_function.cpp:265]\n",
      "CasADi - 2020-05-05 13:53:16 WARNING(\"F:daeF failed: NaN detected for output ode, at (row 1, col 0).\") [.../casadi/core/oracle_function.cpp:265]\n",
      "CasADi - 2020-05-05 13:53:16 WARNING(\"F:daeF failed: NaN detected for output ode, at (row 0, col 0).\") [.../casadi/core/oracle_function.cpp:265]\n",
      "CasADi - 2020-05-05 13:53:16 WARNING(\"F:daeF failed: NaN detected for output ode, at (row 0, col 0).\") [.../casadi/core/oracle_function.cpp:265]\n",
      "CasADi - 2020-05-05 13:53:16 WARNING(\"F:daeF failed: NaN detected for output ode, at (row 1, col 0).\") [.../casadi/core/oracle_function.cpp:265]\n",
      "CasADi - 2020-05-05 13:53:16 WARNING(\"F:daeF failed: NaN detected for output ode, at (row 0, col 0).\") [.../casadi/core/oracle_function.cpp:265]\n",
      "CasADi - 2020-05-05 13:53:16 WARNING(\"F:daeF failed: NaN detected for output ode, at (row 0, col 0).\") [.../casadi/core/oracle_function.cpp:265]\n",
      "CasADi - 2020-05-05 13:53:16 WARNING(\"F:daeF failed: NaN detected for output ode, at (row 0, col 0).\") [.../casadi/core/oracle_function.cpp:265]\n",
      "CasADi - 2020-05-05 13:53:16 WARNING(\"F:daeF failed: NaN detected for output ode, at (row 0, col 0).\") [.../casadi/core/oracle_function.cpp:265]\n",
      "CasADi - 2020-05-05 13:53:16 WARNING(\"F:daeF failed: NaN detected for output ode, at (row 0, col 0).\") [.../casadi/core/oracle_function.cpp:265]\n",
      "CasADi - 2020-05-05 13:53:16 WARNING(\"F:daeF failed: NaN detected for output ode, at (row 0, col 0).\") [.../casadi/core/oracle_function.cpp:265]\n",
      "CasADi - 2020-05-05 13:53:16 WARNING(\"F:daeF failed: NaN detected for output ode, at (row 0, col 0).\") [.../casadi/core/oracle_function.cpp:265]\n",
      "CasADi - 2020-05-05 13:53:16 WARNING(\"F:daeF failed: NaN detected for output ode, at (row 0, col 0).\") [.../casadi/core/oracle_function.cpp:265]\n",
      "CasADi - 2020-05-05 13:53:16 WARNING(\"F:daeF failed: NaN detected for output ode, at (row 0, col 0).\") [.../casadi/core/oracle_function.cpp:265]\n",
      "CasADi - 2020-05-05 13:53:16 WARNING(\"F:daeF failed: NaN detected for output ode, at (row 0, col 0).\") [.../casadi/core/oracle_function.cpp:265]\n",
      "CasADi - 2020-05-05 13:53:16 WARNING(\"F:daeF failed: NaN detected for output ode, at (row 0, col 0).\") [.../casadi/core/oracle_function.cpp:265]\n",
      "CasADi - 2020-05-05 13:53:16 WARNING(\"F:daeF failed: NaN detected for output ode, at (row 0, col 0).\") [.../casadi/core/oracle_function.cpp:265]\n",
      "CasADi - 2020-05-05 13:53:16 WARNING(\"F:daeF failed: NaN detected for output ode, at (row 0, col 0).\") [.../casadi/core/oracle_function.cpp:265]\n",
      "CasADi - 2020-05-05 13:53:16 WARNING(\"F:daeF failed: NaN detected for output ode, at (row 0, col 0).\") [.../casadi/core/oracle_function.cpp:265]\n",
      "CasADi - 2020-05-05 13:53:16 WARNING(\"F:daeF failed: NaN detected for output ode, at (row 0, col 0).\") [.../casadi/core/oracle_function.cpp:265]\n",
      "CasADi - 2020-05-05 13:53:16 WARNING(\"F:daeF failed: NaN detected for output ode, at (row 0, col 0).\") [.../casadi/core/oracle_function.cpp:265]\n",
      "CasADi - 2020-05-05 13:53:16 WARNING(\"F:jacF failed: NaN detected for output o0, at nonzero index 0 (row 0, col 0).\") [.../casadi/core/oracle_function.cpp:265]\n",
      "psetup failed: .../casadi/interfaces/sundials/idas_interface.cpp:827: Calculating Jacobian failed\n",
      "CasADi - 2020-05-05 13:53:16 WARNING(\"F:daeF failed: NaN detected for output ode, at (row 0, col 0).\") [.../casadi/core/oracle_function.cpp:265]\n",
      "CasADi - 2020-05-05 13:53:16 WARNING(\"F:daeF failed: NaN detected for output ode, at (row 0, col 0).\") [.../casadi/core/oracle_function.cpp:265]\n",
      "CasADi - 2020-05-05 13:53:16 WARNING(\"F:daeF failed: NaN detected for output ode, at (row 0, col 0).\") [.../casadi/core/oracle_function.cpp:265]\n",
      "CasADi - 2020-05-05 13:53:16 WARNING(\"F:daeF failed: NaN detected for output ode, at (row 0, col 0).\") [.../casadi/core/oracle_function.cpp:265]\n",
      "CasADi - 2020-05-05 13:53:16 WARNING(\"F:jacF failed: NaN detected for output o0, at nonzero index 0 (row 0, col 0).\") [.../casadi/core/oracle_function.cpp:265]\n",
      "psetup failed: .../casadi/interfaces/sundials/idas_interface.cpp:827: Calculating Jacobian failed\n",
      "CasADi - 2020-05-05 13:53:16 WARNING(\"F:daeF failed: NaN detected for output ode, at (row 0, col 0).\") [.../casadi/core/oracle_function.cpp:265]\n",
      "CasADi - 2020-05-05 13:53:16 WARNING(\"F:daeF failed: NaN detected for output ode, at (row 0, col 0).\") [.../casadi/core/oracle_function.cpp:265]\n",
      "CasADi - 2020-05-05 13:53:16 WARNING(\"F:daeF failed: NaN detected for output ode, at (row 0, col 0).\") [.../casadi/core/oracle_function.cpp:265]\n",
      "CasADi - 2020-05-05 13:53:16 WARNING(\"F:daeF failed: NaN detected for output ode, at (row 0, col 0).\") [.../casadi/core/oracle_function.cpp:265]\n",
      "CasADi - 2020-05-05 13:53:16 WARNING(\"F:jacF failed: NaN detected for output o0, at nonzero index 0 (row 0, col 0).\") [.../casadi/core/oracle_function.cpp:265]\n",
      "psetup failed: .../casadi/interfaces/sundials/idas_interface.cpp:827: Calculating Jacobian failed\n",
      "CasADi - 2020-05-05 13:53:16 WARNING(\"F:daeF failed: NaN detected for output ode, at (row 0, col 0).\") [.../casadi/core/oracle_function.cpp:265]\n",
      "CasADi - 2020-05-05 13:53:16 WARNING(\"F:daeF failed: NaN detected for output ode, at (row 0, col 0).\") [.../casadi/core/oracle_function.cpp:265]\n",
      "CasADi - 2020-05-05 13:53:16 WARNING(\"F:daeF failed: NaN detected for output ode, at (row 0, col 0).\") [.../casadi/core/oracle_function.cpp:265]\n",
      "CasADi - 2020-05-05 13:53:16 WARNING(\"F:daeF failed: NaN detected for output ode, at (row 0, col 0).\") [.../casadi/core/oracle_function.cpp:265]\n",
      "CasADi - 2020-05-05 13:53:16 WARNING(\"F:jacF failed: NaN detected for output o0, at nonzero index 0 (row 0, col 0).\") [.../casadi/core/oracle_function.cpp:265]\n",
      "psetup failed: .../casadi/interfaces/sundials/idas_interface.cpp:827: Calculating Jacobian failed\n",
      "CasADi - 2020-05-05 13:53:16 WARNING(\"F:daeF failed: NaN detected for output ode, at (row 0, col 0).\") [.../casadi/core/oracle_function.cpp:265]\n",
      "CasADi - 2020-05-05 13:53:16 WARNING(\"F:daeF failed: NaN detected for output ode, at (row 0, col 0).\") [.../casadi/core/oracle_function.cpp:265]\n",
      "CasADi - 2020-05-05 13:53:16 WARNING(\"F:daeF failed: NaN detected for output ode, at (row 0, col 0).\") [.../casadi/core/oracle_function.cpp:265]\n",
      "CasADi - 2020-05-05 13:53:16 WARNING(\"F:daeF failed: NaN detected for output ode, at (row 0, col 0).\") [.../casadi/core/oracle_function.cpp:265]\n",
      "CasADi - 2020-05-05 13:53:16 WARNING(\"F:jacF failed: NaN detected for output o0, at nonzero index 0 (row 0, col 0).\") [.../casadi/core/oracle_function.cpp:265]\n",
      "psetup failed: .../casadi/interfaces/sundials/idas_interface.cpp:827: Calculating Jacobian failed\n",
      "CasADi - 2020-05-05 13:53:16 WARNING(\"F:daeF failed: NaN detected for output ode, at (row 0, col 0).\") [.../casadi/core/oracle_function.cpp:265]\n",
      "CasADi - 2020-05-05 13:53:16 WARNING(\"F:jacF failed: NaN detected for output o0, at nonzero index 0 (row 0, col 0).\") [.../casadi/core/oracle_function.cpp:265]\n",
      "psetup failed: .../casadi/interfaces/sundials/idas_interface.cpp:827: Calculating Jacobian failed\n",
      "CasADi - 2020-05-05 13:53:16 WARNING(\"F:daeF failed: NaN detected for output ode, at (row 0, col 0).\") [.../casadi/core/oracle_function.cpp:265]\n",
      "CasADi - 2020-05-05 13:53:16 WARNING(\"F:daeF failed: NaN detected for output ode, at (row 0, col 0).\") [.../casadi/core/oracle_function.cpp:265]\n",
      "CasADi - 2020-05-05 13:53:16 WARNING(\"F:daeF failed: NaN detected for output ode, at (row 0, col 0).\") [.../casadi/core/oracle_function.cpp:265]\n",
      "CasADi - 2020-05-05 13:53:16 WARNING(\"F:daeF failed: NaN detected for output ode, at (row 0, col 0).\") [.../casadi/core/oracle_function.cpp:265]\n",
      "CasADi - 2020-05-05 13:53:16 WARNING(\"F:daeF failed: NaN detected for output ode, at (row 0, col 0).\") [.../casadi/core/oracle_function.cpp:265]\n",
      "CasADi - 2020-05-05 13:53:16 WARNING(\"F:jacF failed: NaN detected for output o0, at nonzero index 0 (row 0, col 0).\") [.../casadi/core/oracle_function.cpp:265]\n",
      "psetup failed: .../casadi/interfaces/sundials/idas_interface.cpp:827: Calculating Jacobian failed\n",
      "CasADi - 2020-05-05 13:53:16 WARNING(\"F:daeF failed: NaN detected for output ode, at (row 0, col 0).\") [.../casadi/core/oracle_function.cpp:265]\n",
      "CasADi - 2020-05-05 13:53:16 WARNING(\"F:jacF failed: NaN detected for output o0, at nonzero index 0 (row 0, col 0).\") [.../casadi/core/oracle_function.cpp:265]\n",
      "psetup failed: .../casadi/interfaces/sundials/idas_interface.cpp:827: Calculating Jacobian failed\n",
      "CasADi - 2020-05-05 13:53:16 WARNING(\"F:daeF failed: NaN detected for output ode, at (row 0, col 0).\") [.../casadi/core/oracle_function.cpp:265]\n",
      "CasADi - 2020-05-05 13:53:16 WARNING(\"F:daeF failed: NaN detected for output ode, at (row 0, col 0).\") [.../casadi/core/oracle_function.cpp:265]\n",
      "CasADi - 2020-05-05 13:53:16 WARNING(\"F:daeF failed: NaN detected for output ode, at (row 0, col 0).\") [.../casadi/core/oracle_function.cpp:265]\n",
      "CasADi - 2020-05-05 13:53:16 WARNING(\"F:daeF failed: NaN detected for output ode, at (row 0, col 0).\") [.../casadi/core/oracle_function.cpp:265]\n",
      "CasADi - 2020-05-05 13:53:16 WARNING(\"F:daeF failed: NaN detected for output ode, at (row 0, col 0).\") [.../casadi/core/oracle_function.cpp:265]\n",
      "CasADi - 2020-05-05 13:53:16 WARNING(\"F:daeF failed: NaN detected for output ode, at (row 0, col 0).\") [.../casadi/core/oracle_function.cpp:265]\n",
      "CasADi - 2020-05-05 13:53:16 WARNING(\"F:daeF failed: NaN detected for output ode, at (row 0, col 0).\") [.../casadi/core/oracle_function.cpp:265]\n",
      "CasADi - 2020-05-05 13:53:16 WARNING(\"F:daeF failed: NaN detected for output ode, at (row 0, col 0).\") [.../casadi/core/oracle_function.cpp:265]\n",
      "CasADi - 2020-05-05 13:53:16 WARNING(\"F:jacF failed: NaN detected for output o0, at nonzero index 0 (row 0, col 0).\") [.../casadi/core/oracle_function.cpp:265]\n",
      "psetup failed: .../casadi/interfaces/sundials/idas_interface.cpp:827: Calculating Jacobian failed\n",
      "CasADi - 2020-05-05 13:53:16 WARNING(\"F:daeF failed: NaN detected for output ode, at (row 0, col 0).\") [.../casadi/core/oracle_function.cpp:265]\n",
      "CasADi - 2020-05-05 13:53:16 WARNING(\"F:daeF failed: NaN detected for output ode, at (row 0, col 0).\") [.../casadi/core/oracle_function.cpp:265]\n",
      "CasADi - 2020-05-05 13:53:16 WARNING(\"F:daeF failed: NaN detected for output ode, at (row 0, col 0).\") [.../casadi/core/oracle_function.cpp:265]\n",
      "CasADi - 2020-05-05 13:53:16 WARNING(\"F:daeF failed: NaN detected for output ode, at (row 0, col 0).\") [.../casadi/core/oracle_function.cpp:265]\n",
      "CasADi - 2020-05-05 13:53:16 WARNING(\"F:daeF failed: NaN detected for output ode, at (row 0, col 0).\") [.../casadi/core/oracle_function.cpp:265]\n",
      "CasADi - 2020-05-05 13:53:16 WARNING(\"F:daeF failed: NaN detected for output ode, at (row 0, col 0).\") [.../casadi/core/oracle_function.cpp:265]\n",
      "CasADi - 2020-05-05 13:53:16 WARNING(\"F:daeF failed: NaN detected for output ode, at (row 0, col 0).\") [.../casadi/core/oracle_function.cpp:265]\n",
      "CasADi - 2020-05-05 13:53:16 WARNING(\"F:jacF failed: NaN detected for output o0, at nonzero index 0 (row 0, col 0).\") [.../casadi/core/oracle_function.cpp:265]\n",
      "psetup failed: .../casadi/interfaces/sundials/idas_interface.cpp:827: Calculating Jacobian failed\n",
      "CasADi - 2020-05-05 13:53:16 WARNING(\"F:daeF failed: NaN detected for output ode, at (row 0, col 0).\") [.../casadi/core/oracle_function.cpp:265]\n",
      "CasADi - 2020-05-05 13:53:16 WARNING(\"F:jacF failed: NaN detected for output o0, at nonzero index 0 (row 0, col 0).\") [.../casadi/core/oracle_function.cpp:265]\n",
      "psetup failed: .../casadi/interfaces/sundials/idas_interface.cpp:827: Calculating Jacobian failed\n",
      "CasADi - 2020-05-05 13:53:16 WARNING(\"F:daeF failed: NaN detected for output ode, at (row 0, col 0).\") [.../casadi/core/oracle_function.cpp:265]\n",
      "CasADi - 2020-05-05 13:53:16 WARNING(\"F:jacF failed: NaN detected for output o0, at nonzero index 0 (row 0, col 0).\") [.../casadi/core/oracle_function.cpp:265]\n",
      "psetup failed: .../casadi/interfaces/sundials/idas_interface.cpp:827: Calculating Jacobian failed\n",
      "CasADi - 2020-05-05 13:53:16 WARNING(\"F:daeF failed: NaN detected for output ode, at (row 0, col 0).\") [.../casadi/core/oracle_function.cpp:265]\n",
      "CasADi - 2020-05-05 13:53:16 WARNING(\"F:jacF failed: NaN detected for output o0, at nonzero index 0 (row 0, col 0).\") [.../casadi/core/oracle_function.cpp:265]\n",
      "psetup failed: .../casadi/interfaces/sundials/idas_interface.cpp:827: Calculating Jacobian failed\n",
      "CasADi - 2020-05-05 13:53:16 WARNING(\"F:daeF failed: NaN detected for output ode, at (row 0, col 0).\") [.../casadi/core/oracle_function.cpp:265]\n",
      "CasADi - 2020-05-05 13:53:16 WARNING(\"F:jacF failed: NaN detected for output o0, at nonzero index 0 (row 0, col 0).\") [.../casadi/core/oracle_function.cpp:265]\n",
      "psetup failed: .../casadi/interfaces/sundials/idas_interface.cpp:827: Calculating Jacobian failed\n",
      "CasADi - 2020-05-05 13:53:16 WARNING(\"F:daeF failed: NaN detected for output ode, at (row 0, col 0).\") [.../casadi/core/oracle_function.cpp:265]\n",
      "CasADi - 2020-05-05 13:53:16 WARNING(\"F:jacF failed: NaN detected for output o0, at nonzero index 0 (row 0, col 0).\") [.../casadi/core/oracle_function.cpp:265]\n",
      "psetup failed: .../casadi/interfaces/sundials/idas_interface.cpp:827: Calculating Jacobian failed\n",
      "CasADi - 2020-05-05 13:53:16 WARNING(\"F:daeF failed: NaN detected for output ode, at (row 0, col 0).\") [.../casadi/core/oracle_function.cpp:265]\n",
      "CasADi - 2020-05-05 13:53:16 WARNING(\"F:jacF failed: NaN detected for output o0, at nonzero index 0 (row 0, col 0).\") [.../casadi/core/oracle_function.cpp:265]\n",
      "psetup failed: .../casadi/interfaces/sundials/idas_interface.cpp:827: Calculating Jacobian failed\n",
      "CasADi - 2020-05-05 13:53:16 WARNING(\"F:daeF failed: NaN detected for output ode, at (row 0, col 0).\") [.../casadi/core/oracle_function.cpp:265]\n",
      "CasADi - 2020-05-05 13:53:16 WARNING(\"F:jacF failed: NaN detected for output o0, at nonzero index 0 (row 0, col 0).\") [.../casadi/core/oracle_function.cpp:265]\n",
      "psetup failed: .../casadi/interfaces/sundials/idas_interface.cpp:827: Calculating Jacobian failed\n",
      "CasADi - 2020-05-05 13:53:16 WARNING(\"F:daeF failed: NaN detected for output ode, at (row 0, col 0).\") [.../casadi/core/oracle_function.cpp:265]\n",
      "CasADi - 2020-05-05 13:53:16 WARNING(\"F:jacF failed: NaN detected for output o0, at nonzero index 0 (row 0, col 0).\") [.../casadi/core/oracle_function.cpp:265]\n",
      "psetup failed: .../casadi/interfaces/sundials/idas_interface.cpp:827: Calculating Jacobian failed\n",
      "CasADi - 2020-05-05 13:53:16 WARNING(\"F:daeF failed: NaN detected for output ode, at (row 0, col 0).\") [.../casadi/core/oracle_function.cpp:265]\n",
      "CasADi - 2020-05-05 13:53:16 WARNING(\"F:jacF failed: NaN detected for output o0, at nonzero index 0 (row 0, col 0).\") [.../casadi/core/oracle_function.cpp:265]\n",
      "psetup failed: .../casadi/interfaces/sundials/idas_interface.cpp:827: Calculating Jacobian failed\n",
      "At t = 2.35719e-07 and h = 3.35485e-16, the corrector convergence failed repeatedly or with |h| = hmin.\n"
     ]
    },
    {
     "ename": "SolverError",
     "evalue": ".../casadi/interfaces/sundials/idas_interface.cpp:569: IDASolve returned \"IDA_CONV_FAIL\". Consult IDAS documentation.",
     "output_type": "error",
     "traceback": [
      "\u001b[0;31m---------------------------------------------------------------------------\u001b[0m",
      "\u001b[0;31mRuntimeError\u001b[0m                              Traceback (most recent call last)",
      "\u001b[0;32m~/myenv/lib/python3.7/site-packages/pybamm/solvers/casadi_solver.py\u001b[0m in \u001b[0;36m_run_integrator\u001b[0;34m(self, integrator, model, y0, inputs, t_eval)\u001b[0m\n\u001b[1;32m    234\u001b[0m             \u001b[0;31m# Try solving\u001b[0m\u001b[0;34m\u001b[0m\u001b[0;34m\u001b[0m\u001b[0;34m\u001b[0m\u001b[0m\n\u001b[0;32m--> 235\u001b[0;31m             \u001b[0msol\u001b[0m \u001b[0;34m=\u001b[0m \u001b[0mintegrator\u001b[0m\u001b[0;34m(\u001b[0m\u001b[0mx0\u001b[0m\u001b[0;34m=\u001b[0m\u001b[0my0_diff\u001b[0m\u001b[0;34m,\u001b[0m \u001b[0mz0\u001b[0m\u001b[0;34m=\u001b[0m\u001b[0my0_alg\u001b[0m\u001b[0;34m,\u001b[0m \u001b[0mp\u001b[0m\u001b[0;34m=\u001b[0m\u001b[0minputs\u001b[0m\u001b[0;34m,\u001b[0m \u001b[0;34m**\u001b[0m\u001b[0mself\u001b[0m\u001b[0;34m.\u001b[0m\u001b[0mextra_options\u001b[0m\u001b[0;34m)\u001b[0m\u001b[0;34m\u001b[0m\u001b[0;34m\u001b[0m\u001b[0m\n\u001b[0m\u001b[1;32m    236\u001b[0m             \u001b[0my_values\u001b[0m \u001b[0;34m=\u001b[0m \u001b[0mnp\u001b[0m\u001b[0;34m.\u001b[0m\u001b[0mconcatenate\u001b[0m\u001b[0;34m(\u001b[0m\u001b[0;34m[\u001b[0m\u001b[0msol\u001b[0m\u001b[0;34m[\u001b[0m\u001b[0;34m\"xf\"\u001b[0m\u001b[0;34m]\u001b[0m\u001b[0;34m.\u001b[0m\u001b[0mfull\u001b[0m\u001b[0;34m(\u001b[0m\u001b[0;34m)\u001b[0m\u001b[0;34m,\u001b[0m \u001b[0msol\u001b[0m\u001b[0;34m[\u001b[0m\u001b[0;34m\"zf\"\u001b[0m\u001b[0;34m]\u001b[0m\u001b[0;34m.\u001b[0m\u001b[0mfull\u001b[0m\u001b[0;34m(\u001b[0m\u001b[0;34m)\u001b[0m\u001b[0;34m]\u001b[0m\u001b[0;34m)\u001b[0m\u001b[0;34m\u001b[0m\u001b[0;34m\u001b[0m\u001b[0m\n",
      "\u001b[0;32m~/myenv/lib/python3.7/site-packages/casadi/casadi.py\u001b[0m in \u001b[0;36m__call__\u001b[0;34m(self, *args, **kwargs)\u001b[0m\n\u001b[1;32m  13342\u001b[0m     \u001b[0;31m# Named inputs -> return dictionary\u001b[0m\u001b[0;34m\u001b[0m\u001b[0;34m\u001b[0m\u001b[0;34m\u001b[0m\u001b[0m\n\u001b[0;32m> 13343\u001b[0;31m         \u001b[0;32mreturn\u001b[0m \u001b[0mself\u001b[0m\u001b[0;34m.\u001b[0m\u001b[0mcall\u001b[0m\u001b[0;34m(\u001b[0m\u001b[0mkwargs\u001b[0m\u001b[0;34m)\u001b[0m\u001b[0;34m\u001b[0m\u001b[0;34m\u001b[0m\u001b[0m\n\u001b[0m\u001b[1;32m  13344\u001b[0m \u001b[0;34m\u001b[0m\u001b[0m\n",
      "\u001b[0;32m~/myenv/lib/python3.7/site-packages/casadi/casadi.py\u001b[0m in \u001b[0;36mcall\u001b[0;34m(self, *args)\u001b[0m\n\u001b[1;32m  12213\u001b[0m         \"\"\"\n\u001b[0;32m> 12214\u001b[0;31m         \u001b[0;32mreturn\u001b[0m \u001b[0m_casadi\u001b[0m\u001b[0;34m.\u001b[0m\u001b[0mFunction_call\u001b[0m\u001b[0;34m(\u001b[0m\u001b[0mself\u001b[0m\u001b[0;34m,\u001b[0m \u001b[0;34m*\u001b[0m\u001b[0margs\u001b[0m\u001b[0;34m)\u001b[0m\u001b[0;34m\u001b[0m\u001b[0;34m\u001b[0m\u001b[0m\n\u001b[0m\u001b[1;32m  12215\u001b[0m \u001b[0;34m\u001b[0m\u001b[0m\n",
      "\u001b[0;31mRuntimeError\u001b[0m: .../casadi/interfaces/sundials/idas_interface.cpp:569: IDASolve returned \"IDA_CONV_FAIL\". Consult IDAS documentation.",
      "\nDuring handling of the above exception, another exception occurred:\n",
      "\u001b[0;31mSolverError\u001b[0m                               Traceback (most recent call last)",
      "\u001b[0;32m<ipython-input-72-dd184a843afd>\u001b[0m in \u001b[0;36m<module>\u001b[0;34m\u001b[0m\n\u001b[1;32m      4\u001b[0m \u001b[0mdt\u001b[0m \u001b[0;34m=\u001b[0m \u001b[0;36m1e-6\u001b[0m\u001b[0;34m\u001b[0m\u001b[0;34m\u001b[0m\u001b[0m\n\u001b[1;32m      5\u001b[0m \u001b[0mt\u001b[0m \u001b[0;34m=\u001b[0m \u001b[0mnp\u001b[0m\u001b[0;34m.\u001b[0m\u001b[0mlinspace\u001b[0m\u001b[0;34m(\u001b[0m\u001b[0;36m0\u001b[0m\u001b[0;34m,\u001b[0m \u001b[0mseconds\u001b[0m\u001b[0;34m,\u001b[0m \u001b[0mint\u001b[0m\u001b[0;34m(\u001b[0m\u001b[0mseconds\u001b[0m\u001b[0;34m/\u001b[0m\u001b[0mdt\u001b[0m\u001b[0;34m)\u001b[0m\u001b[0;34m)\u001b[0m\u001b[0;34m\u001b[0m\u001b[0;34m\u001b[0m\u001b[0m\n\u001b[0;32m----> 6\u001b[0;31m \u001b[0msolution\u001b[0m \u001b[0;34m=\u001b[0m \u001b[0mdae_solver\u001b[0m\u001b[0;34m.\u001b[0m\u001b[0msolve\u001b[0m\u001b[0;34m(\u001b[0m\u001b[0mmodel\u001b[0m\u001b[0;34m,\u001b[0m \u001b[0mt\u001b[0m\u001b[0;34m)\u001b[0m\u001b[0;34m\u001b[0m\u001b[0;34m\u001b[0m\u001b[0m\n\u001b[0m",
      "\u001b[0;32m~/myenv/lib/python3.7/site-packages/pybamm/solvers/base_solver.py\u001b[0m in \u001b[0;36msolve\u001b[0;34m(self, model, t_eval, external_variables, inputs)\u001b[0m\n\u001b[1;32m    605\u001b[0m             \u001b[0mtimer\u001b[0m\u001b[0;34m.\u001b[0m\u001b[0mreset\u001b[0m\u001b[0;34m(\u001b[0m\u001b[0;34m)\u001b[0m\u001b[0;34m\u001b[0m\u001b[0;34m\u001b[0m\u001b[0m\n\u001b[1;32m    606\u001b[0m             new_solution = self._integrate(\n\u001b[0;32m--> 607\u001b[0;31m                 \u001b[0mmodel\u001b[0m\u001b[0;34m,\u001b[0m \u001b[0mt_eval_dimensionless\u001b[0m\u001b[0;34m[\u001b[0m\u001b[0mstart_index\u001b[0m\u001b[0;34m:\u001b[0m\u001b[0mend_index\u001b[0m\u001b[0;34m]\u001b[0m\u001b[0;34m,\u001b[0m \u001b[0mext_and_inputs\u001b[0m\u001b[0;34m\u001b[0m\u001b[0;34m\u001b[0m\u001b[0m\n\u001b[0m\u001b[1;32m    608\u001b[0m             )\n\u001b[1;32m    609\u001b[0m             \u001b[0mnew_solution\u001b[0m\u001b[0;34m.\u001b[0m\u001b[0msolve_time\u001b[0m \u001b[0;34m=\u001b[0m \u001b[0mtimer\u001b[0m\u001b[0;34m.\u001b[0m\u001b[0mtime\u001b[0m\u001b[0;34m(\u001b[0m\u001b[0;34m)\u001b[0m\u001b[0;34m\u001b[0m\u001b[0;34m\u001b[0m\u001b[0m\n",
      "\u001b[0;32m~/myenv/lib/python3.7/site-packages/pybamm/solvers/casadi_solver.py\u001b[0m in \u001b[0;36m_integrate\u001b[0;34m(self, model, t_eval, inputs)\u001b[0m\n\u001b[1;32m    107\u001b[0m             \u001b[0mpybamm\u001b[0m\u001b[0;34m.\u001b[0m\u001b[0mlogger\u001b[0m\u001b[0;34m.\u001b[0m\u001b[0minfo\u001b[0m\u001b[0;34m(\u001b[0m\u001b[0;34m\"No events found, running fast mode\"\u001b[0m\u001b[0;34m)\u001b[0m\u001b[0;34m\u001b[0m\u001b[0;34m\u001b[0m\u001b[0m\n\u001b[1;32m    108\u001b[0m             \u001b[0mintegrator\u001b[0m \u001b[0;34m=\u001b[0m \u001b[0mself\u001b[0m\u001b[0;34m.\u001b[0m\u001b[0mget_integrator\u001b[0m\u001b[0;34m(\u001b[0m\u001b[0mmodel\u001b[0m\u001b[0;34m,\u001b[0m \u001b[0mt_eval\u001b[0m\u001b[0;34m,\u001b[0m \u001b[0minputs\u001b[0m\u001b[0;34m)\u001b[0m\u001b[0;34m\u001b[0m\u001b[0;34m\u001b[0m\u001b[0m\n\u001b[0;32m--> 109\u001b[0;31m             \u001b[0msolution\u001b[0m \u001b[0;34m=\u001b[0m \u001b[0mself\u001b[0m\u001b[0;34m.\u001b[0m\u001b[0m_run_integrator\u001b[0m\u001b[0;34m(\u001b[0m\u001b[0mintegrator\u001b[0m\u001b[0;34m,\u001b[0m \u001b[0mmodel\u001b[0m\u001b[0;34m,\u001b[0m \u001b[0mmodel\u001b[0m\u001b[0;34m.\u001b[0m\u001b[0my0\u001b[0m\u001b[0;34m,\u001b[0m \u001b[0minputs\u001b[0m\u001b[0;34m,\u001b[0m \u001b[0mt_eval\u001b[0m\u001b[0;34m)\u001b[0m\u001b[0;34m\u001b[0m\u001b[0;34m\u001b[0m\u001b[0m\n\u001b[0m\u001b[1;32m    110\u001b[0m             \u001b[0msolution\u001b[0m\u001b[0;34m.\u001b[0m\u001b[0mtermination\u001b[0m \u001b[0;34m=\u001b[0m \u001b[0;34m\"final time\"\u001b[0m\u001b[0;34m\u001b[0m\u001b[0;34m\u001b[0m\u001b[0m\n\u001b[1;32m    111\u001b[0m             \u001b[0;32mreturn\u001b[0m \u001b[0msolution\u001b[0m\u001b[0;34m\u001b[0m\u001b[0;34m\u001b[0m\u001b[0m\n",
      "\u001b[0;32m~/myenv/lib/python3.7/site-packages/pybamm/solvers/casadi_solver.py\u001b[0m in \u001b[0;36m_run_integrator\u001b[0;34m(self, integrator, model, y0, inputs, t_eval)\u001b[0m\n\u001b[1;32m    238\u001b[0m         \u001b[0;32mexcept\u001b[0m \u001b[0mRuntimeError\u001b[0m \u001b[0;32mas\u001b[0m \u001b[0me\u001b[0m\u001b[0;34m:\u001b[0m\u001b[0;34m\u001b[0m\u001b[0;34m\u001b[0m\u001b[0m\n\u001b[1;32m    239\u001b[0m             \u001b[0;31m# If it doesn't work raise error\u001b[0m\u001b[0;34m\u001b[0m\u001b[0;34m\u001b[0m\u001b[0;34m\u001b[0m\u001b[0m\n\u001b[0;32m--> 240\u001b[0;31m             \u001b[0;32mraise\u001b[0m \u001b[0mpybamm\u001b[0m\u001b[0;34m.\u001b[0m\u001b[0mSolverError\u001b[0m\u001b[0;34m(\u001b[0m\u001b[0me\u001b[0m\u001b[0;34m.\u001b[0m\u001b[0margs\u001b[0m\u001b[0;34m[\u001b[0m\u001b[0;36m0\u001b[0m\u001b[0;34m]\u001b[0m\u001b[0;34m)\u001b[0m\u001b[0;34m\u001b[0m\u001b[0;34m\u001b[0m\u001b[0m\n\u001b[0m",
      "\u001b[0;31mSolverError\u001b[0m: .../casadi/interfaces/sundials/idas_interface.cpp:569: IDASolve returned \"IDA_CONV_FAIL\". Consult IDAS documentation."
     ]
    }
   ],
   "source": [
    "# solver initiated\n",
    "dae_solver = pybamm.CasadiSolver(mode=\"safe\",atol=1e-6)\n",
    "seconds = 0.1\n",
    "dt = 1e-6\n",
    "t = np.linspace(0, seconds, int(seconds/dt))\n",
    "solution = dae_solver.solve(model, t)"
   ]
  },
  {
   "cell_type": "code",
   "execution_count": 56,
   "metadata": {
    "scrolled": false
   },
   "outputs": [],
   "source": [
    "# retrieve data\n",
    "t_sol = solution.t\n",
    "S8_sol = solution[\"S8\"].data\n",
    "S4_sol = solution[\"S4\"].data\n",
    "S2_sol = solution[\"S2\"].data\n",
    "S_sol  = solution[\"S\"].data\n",
    "Sp_sol = solution[\"Sp\"].data\n",
    "Ss_sol = solution[\"Ss\"].data\n",
    "V_sol  = solution[\"V\"].data"
   ]
  },
  {
   "cell_type": "code",
   "execution_count": 57,
   "metadata": {},
   "outputs": [
    {
     "data": {
      "image/png": "[encoded data removed]",
      "text/plain": [
       "<Figure size 432x288 with 1 Axes>"
      ]
     },
     "metadata": {
      "needs_background": "light"
     },
     "output_type": "display_data"
    }
   ],
   "source": [
    "# check algebraic condition is satisfied\n",
    "I_list = []\n",
    "\n",
    "for i in range(len(V_sol)):\n",
    "    I_list.append(algebraic_condition_func_np(V_sol[i],S_sol[i],S2_sol[i],S4_sol[i],S8_sol[i],EL0,EH0,E_H_coef,f_l,f_h,i_coef,i_l_coef,i_h_coef,I))\n",
    "    \n",
    "plt.plot(t_sol,I_list)\n",
    "plt.xlabel('Time')\n",
    "plt.ylabel('Algebraic Error');"
   ]
  },
  {
   "cell_type": "code",
   "execution_count": 58,
   "metadata": {},
   "outputs": [
    {
     "data": {
      "text/plain": [
       "[<matplotlib.lines.Line2D at 0x12f2400f0>]"
      ]
     },
     "execution_count": 58,
     "metadata": {},
     "output_type": "execute_result"
    },
    {
     "data": {
      "image/png": "[encoded data removed]",
      "text/plain": [
       "<Figure size 432x288 with 1 Axes>"
      ]
     },
     "metadata": {
      "needs_background": "light"
     },
     "output_type": "display_data"
    }
   ],
   "source": [
    "def numerical_deriv(x,t):\n",
    "    n = len(x)\n",
    "    dt = t[1]-t[0]\n",
    "    return (x[1:n]-x[0:n-1])/dt\n",
    "\n",
    "S8_der = numerical_deriv(S8_sol,t_sol)\n",
    "n = len(S8_der)\n",
    "plt.plot(t_sol[0:n],S8_der)\n",
    "plt.plot(t_sol[0:n],-(ns8*Ms*i_H_np(V_sol[0:n],S8_sol[0:n],S4_sol[0:n],EH0,E_H_coef,f_h,i_coef,i_h_coef)/n4*F) - k_s*S8_sol[0:n])"
   ]
  },
  {
   "cell_type": "code",
   "execution_count": 59,
   "metadata": {},
   "outputs": [
    {
     "data": {
      "text/plain": [
       "<matplotlib.legend.Legend at 0x128f1b6d8>"
      ]
     },
     "execution_count": 59,
     "metadata": {},
     "output_type": "execute_result"
    },
    {
     "data": {
      "image/png": "[encoded data removed]",
      "text/plain": [
       "<Figure size 432x288 with 1 Axes>"
      ]
     },
     "metadata": {
      "needs_background": "light"
     },
     "output_type": "display_data"
    }
   ],
   "source": [
    "plt.plot(t_sol, S4_sol)\n",
    "plt.plot(t_sol, S2_sol)\n",
    "plt.plot(t_sol, S_sol)\n",
    "plt.plot(t_sol, Sp_sol)\n",
    "plt.plot(t_sol, Ss_sol)\n",
    "plt.xlabel(\"Time\")\n",
    "plt.ylabel(\"Species Concentration\")\n",
    "plt.legend(['$S_4$','$S_2$','$S$','$S_p$','$S_s$'])"
   ]
  },
  {
   "cell_type": "code",
   "execution_count": 60,
   "metadata": {},
   "outputs": [
    {
     "data": {
      "text/plain": [
       "[<matplotlib.lines.Line2D at 0x129ffbc18>]"
      ]
     },
     "execution_count": 60,
     "metadata": {},
     "output_type": "execute_result"
    },
    {
     "data": {
      "image/png": "[encoded data removed]",
      "text/plain": [
       "<Figure size 432x288 with 1 Axes>"
      ]
     },
     "metadata": {
      "needs_background": "light"
     },
     "output_type": "display_data"
    }
   ],
   "source": [
    "plt.plot(t_sol, S8_sol)"
   ]
  },
  {
   "cell_type": "code",
   "execution_count": 61,
   "metadata": {},
   "outputs": [
    {
     "data": {
      "text/plain": [
       "[<matplotlib.lines.Line2D at 0x121480588>]"
      ]
     },
     "execution_count": 61,
     "metadata": {},
     "output_type": "execute_result"
    },
    {
     "data": {
      "image/png": "[encoded data removed]",
      "text/plain": [
       "<Figure size 432x288 with 1 Axes>"
      ]
     },
     "metadata": {
      "needs_background": "light"
     },
     "output_type": "display_data"
    }
   ],
   "source": [
    "plt.plot(t_sol,S2_sol)"
   ]
  },
  {
   "cell_type": "code",
   "execution_count": 62,
   "metadata": {},
   "outputs": [
    {
     "data": {
      "text/plain": [
       "[<matplotlib.lines.Line2D at 0x12152e9b0>]"
      ]
     },
     "execution_count": 62,
     "metadata": {},
     "output_type": "execute_result"
    },
    {
     "data": {
      "image/png": "[encoded data removed]",
      "text/plain": [
       "<Figure size 432x288 with 1 Axes>"
      ]
     },
     "metadata": {
      "needs_background": "light"
     },
     "output_type": "display_data"
    }
   ],
   "source": [
    "plt.plot(t_sol,S_sol)"
   ]
  },
  {
   "cell_type": "code",
   "execution_count": 63,
   "metadata": {},
   "outputs": [
    {
     "data": {
      "text/plain": [
       "[<matplotlib.lines.Line2D at 0x1218f9b00>]"
      ]
     },
     "execution_count": 63,
     "metadata": {},
     "output_type": "execute_result"
    },
    {
     "data": {
      "image/png": "[encoded data removed]",
      "text/plain": [
       "<Figure size 432x288 with 1 Axes>"
      ]
     },
     "metadata": {
      "needs_background": "light"
     },
     "output_type": "display_data"
    }
   ],
   "source": [
    "plt.plot(t_sol,Sp_sol)"
   ]
  },
  {
   "cell_type": "code",
   "execution_count": 64,
   "metadata": {},
   "outputs": [
    {
     "data": {
      "text/plain": [
       "[<matplotlib.lines.Line2D at 0x13340cf98>]"
      ]
     },
     "execution_count": 64,
     "metadata": {},
     "output_type": "execute_result"
    },
    {
     "data": {
      "image/png": "[encoded data removed]",
      "text/plain": [
       "<Figure size 432x288 with 1 Axes>"
      ]
     },
     "metadata": {
      "needs_background": "light"
     },
     "output_type": "display_data"
    }
   ],
   "source": [
    "eh_list = []\n",
    "el_list = []\n",
    "\n",
    "for i in range(len(V_sol)):\n",
    "    eh_list.append(E_H_np(S8_sol[i],S4_sol[i],EH0,E_H_coef,f_h))\n",
    "    el_list.append(E_L_np(S_sol[i],S2_sol[i],S4_sol[i],EL0,E_H_coef,f_l))\n",
    "    \n",
    "plt.plot(eh_list-V_sol)\n",
    "plt.plot(el_list-V_sol)\n",
    "plt.plot(np.zeros(len(V_sol)))"
   ]
  },
  {
   "cell_type": "code",
   "execution_count": 65,
   "metadata": {},
   "outputs": [
    {
     "data": {
      "text/plain": [
       "Text(0, 0.5, 'Voltage')"
      ]
     },
     "execution_count": 65,
     "metadata": {},
     "output_type": "execute_result"
    },
    {
     "data": {
      "image/png": "[encoded data removed]",
      "text/plain": [
       "<Figure size 432x288 with 1 Axes>"
      ]
     },
     "metadata": {
      "needs_background": "light"
     },
     "output_type": "display_data"
    }
   ],
   "source": [
    "plt.plot(t_sol, V_sol)\n",
    "plt.xlabel(\"Time\")\n",
    "plt.ylabel(\"Voltage\")"
   ]
  },
  {
   "cell_type": "code",
   "execution_count": 35,
   "metadata": {},
   "outputs": [
    {
     "data": {
      "text/plain": [
       "[<matplotlib.lines.Line2D at 0x12b13f630>]"
      ]
     },
     "execution_count": 35,
     "metadata": {},
     "output_type": "execute_result"
    },
    {
     "data": {
      "image/png": "[encoded data removed]",
      "text/plain": [
       "<Figure size 432x288 with 1 Axes>"
      ]
     },
     "metadata": {
      "needs_background": "light"
     },
     "output_type": "display_data"
    }
   ],
   "source": [
    "def numerical_deriv(x,t):\n",
    "    n = len(x)\n",
    "    dt = t[1]-t[0]\n",
    "    return (x[1:n]-x[0:n-1])/dt\n",
    "\n",
    "S8_der = numerical_deriv(S8_sol,t_sol)\n",
    "n = len(S8_der)\n",
    "plt.plot(t_sol[0:n],S8_der)\n",
    "plt.plot(t_sol[0:n],-(ns8*Ms*i_H_np(V_sol[0:n],S8_sol[0:n],S4_sol[0:n],EH0,E_H_coef,f_h,i_coef,i_h_coef)/n4*F) - k_s*S8_sol[0:n])"
   ]
  },
  {
   "cell_type": "code",
   "execution_count": null,
   "metadata": {},
   "outputs": [],
   "source": [
    "# Define Paremters for PyBaMM\n",
    "\n",
    "param_dict = {  \"R\" : 8.3145,\n",
    "                \"T\" : 298,\n",
    "                \"F\" : 9.649*(10**4),\n",
    "                \"v\" : 0.0114,\n",
    "\n",
    "                \"EH0\" : 2.35,\n",
    "                \"EL0\" : 2.195,\n",
    "\n",
    "                \"k_p\"    : 100,\n",
    "                \"k_s\"    : 0.0002,\n",
    "                \"f_s\"    : 0.25,\n",
    "                \"S_star\" : 0.0001,\n",
    "                \"rho_s\"  : 2*(10**3),\n",
    "\n",
    "                \"Ms\"  : 32,\n",
    "                \"ne\"  : 4,\n",
    "                \"ns\"  : 1,\n",
    "                \"ns2\" : 2,\n",
    "                \"ns4\" : 4,\n",
    "                \"ns8\" : 8,\n",
    "                \"n4\"  : 4,\n",
    "\n",
    "                \"ih0\" : 10,\n",
    "                \"il0\" : 5,\n",
    "                \"ar\"  : 0.960,\n",
    "                \"m_s\" : 2.7,\n",
    "                \"I\"   : 0,\n",
    "\n",
    "                \"i_h_term_coef\"   : ns8*Ms*I*v*rho_s/(ne*F*k_p*(m_s**2)),\n",
    "\n",
    "                \"i_coef\"   : ne*F/(2*R*T),\n",
    "                \"i_h_coef\" : -2*ih0*ar,\n",
    "                \"i_l_coef\" : -2*il0*ar,\n",
    "\n",
    "                \"E_H_coef\" : R*T/(4*F),\n",
    "                \"f_h\"      : (ns4**2)*Ms*v/ns8,\n",
    "                \"f_l\"      : (ns**2)*ns2*Ms**2*(v**2)/ns4}\n",
    "\n",
    "parameter_values = pybamm.ParameterValues(param_dict)\n",
    "\n",
    "# Define variables used as pybamm parameters \n",
    "R = pybamm.Parameter(\"R\")\n",
    "T = pybamm.Parameter(\"T\")\n",
    "F = pybamm.Parameter(\"F\")\n",
    "v = pybamm.Parameter(\"v\")\n",
    "\n",
    "EH0 = pybamm.Parameter(\"EH0\")\n",
    "EL0 = pybamm.Parameter(\"EL0\")\n",
    "\n",
    "k_p    = pybamm.Parameter(\"k_p\")\n",
    "k_s    = pybamm.Parameter(\"k_s\")\n",
    "f_s    = pybamm.Parameter(\"f_s\")\n",
    "S_star = pybamm.Parameter(\"S_star\")\n",
    "rho_s  = pybamm.Parameter(\"rho_s\")\n",
    "\n",
    "Ms  = pybamm.Parameter(\"Ms\")\n",
    "ne  = pybamm.Parameter(\"ne\")\n",
    "ns  = pybamm.Parameter(\"ns\")\n",
    "ns2 = pybamm.Parameter(\"ns2\")\n",
    "ns4 = pybamm.Parameter(\"ns4\")\n",
    "ns8 = pybamm.Parameter(\"ns8\")\n",
    "n4  = pybamm.Parameter(\"n4\")\n",
    "\n",
    "ih0 = pybamm.Parameter(\"ih0\")\n",
    "il0 = pybamm.Parameter(\"il0\")\n",
    "ar  = pybamm.Parameter(\"ar\")\n",
    "m_s = pybamm.Parameter(\"m_s\")\n",
    "I   = pybamm.Parameter(\"I\") \n",
    "\n",
    "i_h_term_coef   = pybamm.Parameter(\"i_h_term_coef\")\n",
    "\n",
    "i_coef   = pybamm.Parameter(\"i_coef\")\n",
    "i_h_coef = pybamm.Parameter(\"i_h_coef\")\n",
    "i_l_coef = pybamm.Parameter(\"i_l_coef\")\n",
    "\n",
    "E_H_coef = pybamm.Parameter(\"E_H_coef\")\n",
    "f_h      = pybamm.Parameter(\"f_h\")\n",
    "f_l      = pybamm.Parameter(\"f_l\")\n",
    "\n",
    "model.param = parameter_values\n",
    "\n"
   ]
  }
 ],
 "metadata": {
  "kernelspec": {
   "display_name": "Python 3",
   "language": "python",
   "name": "python3"
  },
  "language_info": {
   "codemirror_mode": {
    "name": "ipython",
    "version": 3
   },
   "file_extension": ".py",
   "mimetype": "text/x-python",
   "name": "python",
   "nbconvert_exporter": "python",
   "pygments_lexer": "ipython3",
   "version": "3.7.3"
  }
 },
 "nbformat": 4,
 "nbformat_minor": 4
}
